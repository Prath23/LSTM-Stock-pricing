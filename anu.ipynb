{
 "cells": [
  {
   "cell_type": "code",
   "execution_count": 1,
   "id": "e334eac0",
   "metadata": {},
   "outputs": [],
   "source": [
    "import pandas as pd\n",
    "import tensorflow as tf\n",
    "import numpy as np\n",
    "%matplotlib inline\n",
    "import matplotlib. pyplot as plt\n",
    "import matplotlib\n",
    "import matplotlib. dates as mandates\n",
    "from sklearn.preprocessing import MinMaxScaler\n",
    "from sklearn.model_selection import TimeSeriesSplit\n",
    "from sklearn.metrics import mean_squared_error, r2_score\n",
    "from sklearn.preprocessing import MinMaxScaler\n",
    "from sklearn import linear_model\n",
    "from keras.layers import LSTM, Dense, Dropout\n",
    "from keras.models import Sequential\n",
    "from keras.layers import Dense\n",
    "import keras.backend as K\n",
    "from keras.callbacks import EarlyStopping\n",
    "from keras.optimizers import Adam\n",
    "from keras.models import load_model\n",
    "from keras.layers import LSTM\n",
    "from keras.utils.vis_utils import plot_model"
   ]
  },
  {
   "cell_type": "code",
   "execution_count": 2,
   "id": "e85453e8",
   "metadata": {},
   "outputs": [
    {
     "data": {
      "text/html": [
       "<div>\n",
       "<style scoped>\n",
       "    .dataframe tbody tr th:only-of-type {\n",
       "        vertical-align: middle;\n",
       "    }\n",
       "\n",
       "    .dataframe tbody tr th {\n",
       "        vertical-align: top;\n",
       "    }\n",
       "\n",
       "    .dataframe thead th {\n",
       "        text-align: right;\n",
       "    }\n",
       "</style>\n",
       "<table border=\"1\" class=\"dataframe\">\n",
       "  <thead>\n",
       "    <tr style=\"text-align: right;\">\n",
       "      <th></th>\n",
       "      <th>Open</th>\n",
       "      <th>High</th>\n",
       "      <th>Low</th>\n",
       "      <th>Close</th>\n",
       "      <th>Adj Close</th>\n",
       "      <th>Volume</th>\n",
       "    </tr>\n",
       "    <tr>\n",
       "      <th>Date</th>\n",
       "      <th></th>\n",
       "      <th></th>\n",
       "      <th></th>\n",
       "      <th></th>\n",
       "      <th></th>\n",
       "      <th></th>\n",
       "    </tr>\n",
       "  </thead>\n",
       "  <tbody>\n",
       "    <tr>\n",
       "      <th>2022-05-10</th>\n",
       "      <td>400.000000</td>\n",
       "      <td>408.500000</td>\n",
       "      <td>389.600006</td>\n",
       "      <td>391.750000</td>\n",
       "      <td>391.750000</td>\n",
       "      <td>16540303</td>\n",
       "    </tr>\n",
       "    <tr>\n",
       "      <th>2022-05-11</th>\n",
       "      <td>396.000000</td>\n",
       "      <td>397.000000</td>\n",
       "      <td>377.549988</td>\n",
       "      <td>388.149994</td>\n",
       "      <td>388.149994</td>\n",
       "      <td>29215175</td>\n",
       "    </tr>\n",
       "    <tr>\n",
       "      <th>2022-05-12</th>\n",
       "      <td>382.000000</td>\n",
       "      <td>384.649994</td>\n",
       "      <td>366.200012</td>\n",
       "      <td>372.299988</td>\n",
       "      <td>372.299988</td>\n",
       "      <td>33511538</td>\n",
       "    </tr>\n",
       "    <tr>\n",
       "      <th>2022-05-13</th>\n",
       "      <td>387.000000</td>\n",
       "      <td>419.350006</td>\n",
       "      <td>387.000000</td>\n",
       "      <td>404.299988</td>\n",
       "      <td>404.299988</td>\n",
       "      <td>71425747</td>\n",
       "    </tr>\n",
       "    <tr>\n",
       "      <th>2022-05-16</th>\n",
       "      <td>411.899994</td>\n",
       "      <td>411.899994</td>\n",
       "      <td>396.250000</td>\n",
       "      <td>405.350006</td>\n",
       "      <td>405.350006</td>\n",
       "      <td>24938704</td>\n",
       "    </tr>\n",
       "  </tbody>\n",
       "</table>\n",
       "</div>"
      ],
      "text/plain": [
       "                  Open        High         Low       Close   Adj Close  \\\n",
       "Date                                                                     \n",
       "2022-05-10  400.000000  408.500000  389.600006  391.750000  391.750000   \n",
       "2022-05-11  396.000000  397.000000  377.549988  388.149994  388.149994   \n",
       "2022-05-12  382.000000  384.649994  366.200012  372.299988  372.299988   \n",
       "2022-05-13  387.000000  419.350006  387.000000  404.299988  404.299988   \n",
       "2022-05-16  411.899994  411.899994  396.250000  405.350006  405.350006   \n",
       "\n",
       "              Volume  \n",
       "Date                  \n",
       "2022-05-10  16540303  \n",
       "2022-05-11  29215175  \n",
       "2022-05-12  33511538  \n",
       "2022-05-13  71425747  \n",
       "2022-05-16  24938704  "
      ]
     },
     "execution_count": 2,
     "metadata": {},
     "output_type": "execute_result"
    }
   ],
   "source": [
    "df=pd.read_csv(\"TATAMOTORS.NS.csv\",na_values=[\"null\"],index_col='Date',parse_dates=True,infer_datetime_format=True)\n",
    "df.head()"
   ]
  },
  {
   "cell_type": "code",
   "execution_count": 3,
   "id": "8ff5b61d",
   "metadata": {},
   "outputs": [
    {
     "data": {
      "text/plain": [
       "Open         0\n",
       "High         0\n",
       "Low          0\n",
       "Close        0\n",
       "Adj Close    0\n",
       "Volume       0\n",
       "dtype: int64"
      ]
     },
     "execution_count": 3,
     "metadata": {},
     "output_type": "execute_result"
    }
   ],
   "source": [
    "df.shape\n",
    "df.isnull().sum()"
   ]
  },
  {
   "cell_type": "code",
   "execution_count": 4,
   "id": "c9abd2b2",
   "metadata": {},
   "outputs": [
    {
     "data": {
      "text/plain": [
       "1494"
      ]
     },
     "execution_count": 4,
     "metadata": {},
     "output_type": "execute_result"
    }
   ],
   "source": [
    "df.size"
   ]
  },
  {
   "cell_type": "code",
   "execution_count": 5,
   "id": "7593568e",
   "metadata": {},
   "outputs": [
    {
     "data": {
      "text/html": [
       "<div>\n",
       "<style scoped>\n",
       "    .dataframe tbody tr th:only-of-type {\n",
       "        vertical-align: middle;\n",
       "    }\n",
       "\n",
       "    .dataframe tbody tr th {\n",
       "        vertical-align: top;\n",
       "    }\n",
       "\n",
       "    .dataframe thead th {\n",
       "        text-align: right;\n",
       "    }\n",
       "</style>\n",
       "<table border=\"1\" class=\"dataframe\">\n",
       "  <thead>\n",
       "    <tr style=\"text-align: right;\">\n",
       "      <th></th>\n",
       "      <th>Open</th>\n",
       "      <th>High</th>\n",
       "      <th>Low</th>\n",
       "      <th>Close</th>\n",
       "      <th>Adj Close</th>\n",
       "      <th>Volume</th>\n",
       "    </tr>\n",
       "  </thead>\n",
       "  <tbody>\n",
       "    <tr>\n",
       "      <th>Open</th>\n",
       "      <td>6.791176e+02</td>\n",
       "      <td>6.774624e+02</td>\n",
       "      <td>6.765397e+02</td>\n",
       "      <td>6.772151e+02</td>\n",
       "      <td>6.772151e+02</td>\n",
       "      <td>-3.409517e+07</td>\n",
       "    </tr>\n",
       "    <tr>\n",
       "      <th>High</th>\n",
       "      <td>6.774624e+02</td>\n",
       "      <td>6.973059e+02</td>\n",
       "      <td>6.863482e+02</td>\n",
       "      <td>7.005216e+02</td>\n",
       "      <td>7.005216e+02</td>\n",
       "      <td>-1.084302e+07</td>\n",
       "    </tr>\n",
       "    <tr>\n",
       "      <th>Low</th>\n",
       "      <td>6.765397e+02</td>\n",
       "      <td>6.863482e+02</td>\n",
       "      <td>6.962894e+02</td>\n",
       "      <td>6.996290e+02</td>\n",
       "      <td>6.996290e+02</td>\n",
       "      <td>-3.787751e+07</td>\n",
       "    </tr>\n",
       "    <tr>\n",
       "      <th>Close</th>\n",
       "      <td>6.772151e+02</td>\n",
       "      <td>7.005216e+02</td>\n",
       "      <td>6.996290e+02</td>\n",
       "      <td>7.192686e+02</td>\n",
       "      <td>7.192686e+02</td>\n",
       "      <td>-2.006950e+07</td>\n",
       "    </tr>\n",
       "    <tr>\n",
       "      <th>Adj Close</th>\n",
       "      <td>6.772151e+02</td>\n",
       "      <td>7.005216e+02</td>\n",
       "      <td>6.996290e+02</td>\n",
       "      <td>7.192686e+02</td>\n",
       "      <td>7.192686e+02</td>\n",
       "      <td>-2.006950e+07</td>\n",
       "    </tr>\n",
       "    <tr>\n",
       "      <th>Volume</th>\n",
       "      <td>-3.409517e+07</td>\n",
       "      <td>-1.084302e+07</td>\n",
       "      <td>-3.787751e+07</td>\n",
       "      <td>-2.006950e+07</td>\n",
       "      <td>-2.006950e+07</td>\n",
       "      <td>7.456855e+13</td>\n",
       "    </tr>\n",
       "  </tbody>\n",
       "</table>\n",
       "</div>"
      ],
      "text/plain": [
       "                   Open          High           Low         Close  \\\n",
       "Open       6.791176e+02  6.774624e+02  6.765397e+02  6.772151e+02   \n",
       "High       6.774624e+02  6.973059e+02  6.863482e+02  7.005216e+02   \n",
       "Low        6.765397e+02  6.863482e+02  6.962894e+02  6.996290e+02   \n",
       "Close      6.772151e+02  7.005216e+02  6.996290e+02  7.192686e+02   \n",
       "Adj Close  6.772151e+02  7.005216e+02  6.996290e+02  7.192686e+02   \n",
       "Volume    -3.409517e+07 -1.084302e+07 -3.787751e+07 -2.006950e+07   \n",
       "\n",
       "              Adj Close        Volume  \n",
       "Open       6.772151e+02 -3.409517e+07  \n",
       "High       7.005216e+02 -1.084302e+07  \n",
       "Low        6.996290e+02 -3.787751e+07  \n",
       "Close      7.192686e+02 -2.006950e+07  \n",
       "Adj Close  7.192686e+02 -2.006950e+07  \n",
       "Volume    -2.006950e+07  7.456855e+13  "
      ]
     },
     "execution_count": 5,
     "metadata": {},
     "output_type": "execute_result"
    }
   ],
   "source": [
    "df.cov()"
   ]
  },
  {
   "cell_type": "code",
   "execution_count": 6,
   "id": "2baead8d",
   "metadata": {},
   "outputs": [
    {
     "data": {
      "text/plain": [
       "<AxesSubplot:xlabel='Date'>"
      ]
     },
     "execution_count": 6,
     "metadata": {},
     "output_type": "execute_result"
    },
    {
     "data": {
      "image/png": "[encoded data removed]",
      "text/plain": [
       "<Figure size 432x288 with 1 Axes>"
      ]
     },
     "metadata": {
      "needs_background": "light"
     },
     "output_type": "display_data"
    }
   ],
   "source": [
    "df['Adj Close'].plot()"
   ]
  },
  {
   "cell_type": "code",
   "execution_count": 7,
   "id": "c146b356",
   "metadata": {},
   "outputs": [],
   "source": [
    "output_var = pd.DataFrame(df[r'Adj Close'])"
   ]
  },
  {
   "cell_type": "code",
   "execution_count": 8,
   "id": "d0e89be4",
   "metadata": {},
   "outputs": [],
   "source": [
    "features = ['Open', 'High', 'Low', 'Volume']"
   ]
  },
  {
   "cell_type": "code",
   "execution_count": 9,
   "id": "cf4bc561",
   "metadata": {},
   "outputs": [
    {
     "data": {
      "text/html": [
       "<div>\n",
       "<style scoped>\n",
       "    .dataframe tbody tr th:only-of-type {\n",
       "        vertical-align: middle;\n",
       "    }\n",
       "\n",
       "    .dataframe tbody tr th {\n",
       "        vertical-align: top;\n",
       "    }\n",
       "\n",
       "    .dataframe thead th {\n",
       "        text-align: right;\n",
       "    }\n",
       "</style>\n",
       "<table border=\"1\" class=\"dataframe\">\n",
       "  <thead>\n",
       "    <tr style=\"text-align: right;\">\n",
       "      <th></th>\n",
       "      <th>Open</th>\n",
       "      <th>High</th>\n",
       "      <th>Low</th>\n",
       "      <th>Volume</th>\n",
       "    </tr>\n",
       "    <tr>\n",
       "      <th>Date</th>\n",
       "      <th></th>\n",
       "      <th></th>\n",
       "      <th></th>\n",
       "      <th></th>\n",
       "    </tr>\n",
       "  </thead>\n",
       "  <tbody>\n",
       "    <tr>\n",
       "      <th>2022-05-10</th>\n",
       "      <td>0.154599</td>\n",
       "      <td>0.185965</td>\n",
       "      <td>0.169381</td>\n",
       "      <td>0.199390</td>\n",
       "    </tr>\n",
       "    <tr>\n",
       "      <th>2022-05-11</th>\n",
       "      <td>0.123288</td>\n",
       "      <td>0.096296</td>\n",
       "      <td>0.082157</td>\n",
       "      <td>0.384278</td>\n",
       "    </tr>\n",
       "    <tr>\n",
       "      <th>2022-05-12</th>\n",
       "      <td>0.013699</td>\n",
       "      <td>0.000000</td>\n",
       "      <td>0.000000</td>\n",
       "      <td>0.446948</td>\n",
       "    </tr>\n",
       "    <tr>\n",
       "      <th>2022-05-13</th>\n",
       "      <td>0.052838</td>\n",
       "      <td>0.270565</td>\n",
       "      <td>0.150561</td>\n",
       "      <td>1.000000</td>\n",
       "    </tr>\n",
       "    <tr>\n",
       "      <th>2022-05-16</th>\n",
       "      <td>0.247749</td>\n",
       "      <td>0.212476</td>\n",
       "      <td>0.217517</td>\n",
       "      <td>0.321897</td>\n",
       "    </tr>\n",
       "  </tbody>\n",
       "</table>\n",
       "</div>"
      ],
      "text/plain": [
       "                Open      High       Low    Volume\n",
       "Date                                              \n",
       "2022-05-10  0.154599  0.185965  0.169381  0.199390\n",
       "2022-05-11  0.123288  0.096296  0.082157  0.384278\n",
       "2022-05-12  0.013699  0.000000  0.000000  0.446948\n",
       "2022-05-13  0.052838  0.270565  0.150561  1.000000\n",
       "2022-05-16  0.247749  0.212476  0.217517  0.321897"
      ]
     },
     "execution_count": 9,
     "metadata": {},
     "output_type": "execute_result"
    }
   ],
   "source": [
    "scaler = MinMaxScaler()\n",
    "feature_transform = scaler.fit_transform(df[features])\n",
    "feature_transform= pd.DataFrame(columns=features, data=feature_transform, index=df.index)\n",
    "feature_transform.head()"
   ]
  },
  {
   "cell_type": "code",
   "execution_count": 11,
   "id": "adeef400",
   "metadata": {},
   "outputs": [],
   "source": [
    "timesplit= TimeSeriesSplit(n_splits=10)\n",
    "for train_index, test_index in timesplit.split(feature_transform):\n",
    "        X_train, X_test = feature_transform[:len(train_index)], feature_transform[len(train_index): (len(train_index)+len(test_index))]\n",
    "        y_train, y_test = output_var[:len(train_index)].values.ravel(), output_var[len(train_index): (len(train_index)+len(test_index))].values.ravel()"
   ]
  },
  {
   "cell_type": "code",
   "execution_count": 12,
   "id": "2c7c043d",
   "metadata": {},
   "outputs": [
    {
     "data": {
      "text/html": [
       "<div>\n",
       "<style scoped>\n",
       "    .dataframe tbody tr th:only-of-type {\n",
       "        vertical-align: middle;\n",
       "    }\n",
       "\n",
       "    .dataframe tbody tr th {\n",
       "        vertical-align: top;\n",
       "    }\n",
       "\n",
       "    .dataframe thead th {\n",
       "        text-align: right;\n",
       "    }\n",
       "</style>\n",
       "<table border=\"1\" class=\"dataframe\">\n",
       "  <thead>\n",
       "    <tr style=\"text-align: right;\">\n",
       "      <th></th>\n",
       "      <th>Open</th>\n",
       "      <th>High</th>\n",
       "      <th>Low</th>\n",
       "      <th>Volume</th>\n",
       "    </tr>\n",
       "    <tr>\n",
       "      <th>Date</th>\n",
       "      <th></th>\n",
       "      <th></th>\n",
       "      <th></th>\n",
       "      <th></th>\n",
       "    </tr>\n",
       "  </thead>\n",
       "  <tbody>\n",
       "    <tr>\n",
       "      <th>2022-05-10</th>\n",
       "      <td>0.154599</td>\n",
       "      <td>0.185965</td>\n",
       "      <td>0.169381</td>\n",
       "      <td>0.199390</td>\n",
       "    </tr>\n",
       "    <tr>\n",
       "      <th>2022-05-11</th>\n",
       "      <td>0.123288</td>\n",
       "      <td>0.096296</td>\n",
       "      <td>0.082157</td>\n",
       "      <td>0.384278</td>\n",
       "    </tr>\n",
       "    <tr>\n",
       "      <th>2022-05-12</th>\n",
       "      <td>0.013699</td>\n",
       "      <td>0.000000</td>\n",
       "      <td>0.000000</td>\n",
       "      <td>0.446948</td>\n",
       "    </tr>\n",
       "    <tr>\n",
       "      <th>2022-05-13</th>\n",
       "      <td>0.052838</td>\n",
       "      <td>0.270565</td>\n",
       "      <td>0.150561</td>\n",
       "      <td>1.000000</td>\n",
       "    </tr>\n",
       "    <tr>\n",
       "      <th>2022-05-16</th>\n",
       "      <td>0.247749</td>\n",
       "      <td>0.212476</td>\n",
       "      <td>0.217517</td>\n",
       "      <td>0.321897</td>\n",
       "    </tr>\n",
       "  </tbody>\n",
       "</table>\n",
       "</div>"
      ],
      "text/plain": [
       "                Open      High       Low    Volume\n",
       "Date                                              \n",
       "2022-05-10  0.154599  0.185965  0.169381  0.199390\n",
       "2022-05-11  0.123288  0.096296  0.082157  0.384278\n",
       "2022-05-12  0.013699  0.000000  0.000000  0.446948\n",
       "2022-05-13  0.052838  0.270565  0.150561  1.000000\n",
       "2022-05-16  0.247749  0.212476  0.217517  0.321897"
      ]
     },
     "execution_count": 12,
     "metadata": {},
     "output_type": "execute_result"
    }
   ],
   "source": [
    "X_train.head()"
   ]
  },
  {
   "cell_type": "code",
   "execution_count": 13,
   "id": "c53461b4",
   "metadata": {},
   "outputs": [],
   "source": [
    "trainX =np.array(X_train)\n",
    "testX =np.array(X_test)\n",
    "X_train = trainX.reshape(X_train.shape[0], 1, X_train.shape[1])\n",
    "X_test = testX.reshape(X_test.shape[0], 1, X_test.shape[1]) "
   ]
  },
  {
   "cell_type": "code",
   "execution_count": 43,
   "id": "42d012de",
   "metadata": {},
   "outputs": [
    {
     "name": "stdout",
     "output_type": "stream",
     "text": [
      "You must install pydot (`pip install pydot`) and install graphviz (see instructions at https://graphviz.gitlab.io/download/) for plot_model to work.\n"
     ]
    }
   ],
   "source": [
    "lstm = Sequential()\n",
    "lstm.add(LSTM(64, input_shape=(1, trainX.shape[1]), activation='relu', return_sequences=True))\n",
    "lstm.add(LSTM(32, activation='relu'))\n",
    "lstm.add(Dense(1))\n",
    "\n",
    "lstm.compile(loss='mean_squared_error', optimizer='adam')\n",
    "plot_model(lstm, show_shapes=True, show_layer_names=True) "
   ]
  },
  {
   "cell_type": "code",
   "execution_count": 44,
   "id": "08e258fb",
   "metadata": {},
   "outputs": [
    {
     "name": "stdout",
     "output_type": "stream",
     "text": [
      "Epoch 1/100\n",
      "57/57 [==============================] - 2s 2ms/step - loss: 181520.2812\n",
      "Epoch 2/100\n",
      "57/57 [==============================] - 0s 3ms/step - loss: 181189.3750\n",
      "Epoch 3/100\n",
      "57/57 [==============================] - 0s 3ms/step - loss: 178226.9062\n",
      "Epoch 4/100\n",
      "57/57 [==============================] - 0s 3ms/step - loss: 166164.0938\n",
      "Epoch 5/100\n",
      "57/57 [==============================] - 0s 3ms/step - loss: 141263.9531\n",
      "Epoch 6/100\n",
      "57/57 [==============================] - 0s 3ms/step - loss: 102777.0391\n",
      "Epoch 7/100\n",
      "57/57 [==============================] - 0s 3ms/step - loss: 58777.9023\n",
      "Epoch 8/100\n",
      "57/57 [==============================] - 0s 3ms/step - loss: 26153.6172\n",
      "Epoch 9/100\n",
      "57/57 [==============================] - 0s 2ms/step - loss: 13563.4336\n",
      "Epoch 10/100\n",
      "57/57 [==============================] - 0s 2ms/step - loss: 11513.0107\n",
      "Epoch 11/100\n",
      "57/57 [==============================] - 0s 2ms/step - loss: 11120.9277\n",
      "Epoch 12/100\n",
      "57/57 [==============================] - 0s 2ms/step - loss: 10740.4902\n",
      "Epoch 13/100\n",
      "57/57 [==============================] - 0s 2ms/step - loss: 10347.5938\n",
      "Epoch 14/100\n",
      "57/57 [==============================] - 0s 2ms/step - loss: 9967.4072\n",
      "Epoch 15/100\n",
      "57/57 [==============================] - 0s 2ms/step - loss: 9604.8457\n",
      "Epoch 16/100\n",
      "57/57 [==============================] - 0s 2ms/step - loss: 9259.1260\n",
      "Epoch 17/100\n",
      "57/57 [==============================] - 0s 2ms/step - loss: 8928.5732\n",
      "Epoch 18/100\n",
      "57/57 [==============================] - 0s 2ms/step - loss: 8611.6318\n",
      "Epoch 19/100\n",
      "57/57 [==============================] - 0s 2ms/step - loss: 8307.0000\n",
      "Epoch 20/100\n",
      "57/57 [==============================] - 0s 3ms/step - loss: 8013.6382\n",
      "Epoch 21/100\n",
      "57/57 [==============================] - 0s 2ms/step - loss: 7730.6782\n",
      "Epoch 22/100\n",
      "57/57 [==============================] - 0s 2ms/step - loss: 7457.3950\n",
      "Epoch 23/100\n",
      "57/57 [==============================] - 0s 2ms/step - loss: 7193.1709\n",
      "Epoch 24/100\n",
      "57/57 [==============================] - 0s 2ms/step - loss: 6937.4824\n",
      "Epoch 25/100\n",
      "57/57 [==============================] - 0s 3ms/step - loss: 6689.8657\n",
      "Epoch 26/100\n",
      "57/57 [==============================] - 0s 2ms/step - loss: 6449.9175\n",
      "Epoch 27/100\n",
      "57/57 [==============================] - 0s 2ms/step - loss: 6217.2788\n",
      "Epoch 28/100\n",
      "57/57 [==============================] - 0s 2ms/step - loss: 5991.6221\n",
      "Epoch 29/100\n",
      "57/57 [==============================] - 0s 2ms/step - loss: 5772.6636\n",
      "Epoch 30/100\n",
      "57/57 [==============================] - 0s 2ms/step - loss: 5560.1338\n",
      "Epoch 31/100\n",
      "57/57 [==============================] - 0s 2ms/step - loss: 5353.7964\n",
      "Epoch 32/100\n",
      "57/57 [==============================] - 0s 2ms/step - loss: 5153.4336\n",
      "Epoch 33/100\n",
      "57/57 [==============================] - 0s 3ms/step - loss: 4958.8374\n",
      "Epoch 34/100\n",
      "57/57 [==============================] - 0s 2ms/step - loss: 4769.8291\n",
      "Epoch 35/100\n",
      "57/57 [==============================] - 0s 2ms/step - loss: 4586.2344\n",
      "Epoch 36/100\n",
      "57/57 [==============================] - 0s 2ms/step - loss: 4407.8950\n",
      "Epoch 37/100\n",
      "57/57 [==============================] - 0s 2ms/step - loss: 4234.6611\n",
      "Epoch 38/100\n",
      "57/57 [==============================] - 0s 2ms/step - loss: 4066.4023\n",
      "Epoch 39/100\n",
      "57/57 [==============================] - 0s 2ms/step - loss: 3902.9780\n",
      "Epoch 40/100\n",
      "57/57 [==============================] - 0s 2ms/step - loss: 3744.2783\n",
      "Epoch 41/100\n",
      "57/57 [==============================] - 0s 3ms/step - loss: 3590.1909\n",
      "Epoch 42/100\n",
      "57/57 [==============================] - 0s 3ms/step - loss: 3440.6057\n",
      "Epoch 43/100\n",
      "57/57 [==============================] - 0s 3ms/step - loss: 3295.4263\n",
      "Epoch 44/100\n",
      "57/57 [==============================] - 0s 2ms/step - loss: 3154.5601\n",
      "Epoch 45/100\n",
      "57/57 [==============================] - 0s 2ms/step - loss: 3017.9209\n",
      "Epoch 46/100\n",
      "57/57 [==============================] - 0s 2ms/step - loss: 2885.4229\n",
      "Epoch 47/100\n",
      "57/57 [==============================] - 0s 2ms/step - loss: 2756.9878\n",
      "Epoch 48/100\n",
      "57/57 [==============================] - 0s 2ms/step - loss: 2632.5454\n",
      "Epoch 49/100\n",
      "57/57 [==============================] - 0s 2ms/step - loss: 2512.0171\n",
      "Epoch 50/100\n",
      "57/57 [==============================] - 0s 2ms/step - loss: 2395.3411\n",
      "Epoch 51/100\n",
      "57/57 [==============================] - 0s 2ms/step - loss: 2282.4468\n",
      "Epoch 52/100\n",
      "57/57 [==============================] - 0s 2ms/step - loss: 2173.2751\n",
      "Epoch 53/100\n",
      "57/57 [==============================] - 0s 2ms/step - loss: 2067.7649\n",
      "Epoch 54/100\n",
      "57/57 [==============================] - 0s 2ms/step - loss: 1965.8546\n",
      "Epoch 55/100\n",
      "57/57 [==============================] - 0s 2ms/step - loss: 1867.4891\n",
      "Epoch 56/100\n",
      "57/57 [==============================] - 0s 2ms/step - loss: 1772.6096\n",
      "Epoch 57/100\n",
      "57/57 [==============================] - 0s 2ms/step - loss: 1681.1610\n",
      "Epoch 58/100\n",
      "57/57 [==============================] - 0s 2ms/step - loss: 1593.0890\n",
      "Epoch 59/100\n",
      "57/57 [==============================] - 0s 2ms/step - loss: 1508.3362\n",
      "Epoch 60/100\n",
      "57/57 [==============================] - 0s 2ms/step - loss: 1426.8481\n",
      "Epoch 61/100\n",
      "57/57 [==============================] - 0s 2ms/step - loss: 1348.5697\n",
      "Epoch 62/100\n",
      "57/57 [==============================] - 0s 2ms/step - loss: 1273.4446\n",
      "Epoch 63/100\n",
      "57/57 [==============================] - 0s 2ms/step - loss: 1201.4150\n",
      "Epoch 64/100\n",
      "57/57 [==============================] - 0s 2ms/step - loss: 1132.4242\n",
      "Epoch 65/100\n",
      "57/57 [==============================] - 0s 2ms/step - loss: 1066.4122\n",
      "Epoch 66/100\n",
      "57/57 [==============================] - 0s 2ms/step - loss: 1003.3192\n",
      "Epoch 67/100\n",
      "57/57 [==============================] - 0s 2ms/step - loss: 943.0820\n",
      "Epoch 68/100\n",
      "57/57 [==============================] - 0s 2ms/step - loss: 885.6383\n",
      "Epoch 69/100\n",
      "57/57 [==============================] - 0s 2ms/step - loss: 830.9218\n",
      "Epoch 70/100\n",
      "57/57 [==============================] - 0s 2ms/step - loss: 778.8647\n",
      "Epoch 71/100\n",
      "57/57 [==============================] - 0s 2ms/step - loss: 729.3992\n",
      "Epoch 72/100\n",
      "57/57 [==============================] - 0s 2ms/step - loss: 682.4528\n",
      "Epoch 73/100\n",
      "57/57 [==============================] - 0s 2ms/step - loss: 637.9554\n",
      "Epoch 74/100\n",
      "57/57 [==============================] - 0s 2ms/step - loss: 595.8298\n",
      "Epoch 75/100\n",
      "57/57 [==============================] - 0s 2ms/step - loss: 556.0014\n",
      "Epoch 76/100\n",
      "57/57 [==============================] - 0s 2ms/step - loss: 518.3926\n",
      "Epoch 77/100\n",
      "57/57 [==============================] - 0s 2ms/step - loss: 482.9251\n",
      "Epoch 78/100\n",
      "57/57 [==============================] - 0s 2ms/step - loss: 449.5186\n",
      "Epoch 79/100\n",
      "57/57 [==============================] - 0s 2ms/step - loss: 418.0926\n",
      "Epoch 80/100\n",
      "57/57 [==============================] - 0s 2ms/step - loss: 388.5660\n",
      "Epoch 81/100\n",
      "57/57 [==============================] - 0s 3ms/step - loss: 360.8580\n",
      "Epoch 82/100\n",
      "57/57 [==============================] - 0s 2ms/step - loss: 334.8868\n",
      "Epoch 83/100\n",
      "57/57 [==============================] - 0s 2ms/step - loss: 310.5719\n",
      "Epoch 84/100\n",
      "57/57 [==============================] - 0s 2ms/step - loss: 287.8331\n",
      "Epoch 85/100\n",
      "57/57 [==============================] - 0s 2ms/step - loss: 266.5914\n",
      "Epoch 86/100\n",
      "57/57 [==============================] - 0s 2ms/step - loss: 246.7693\n",
      "Epoch 87/100\n",
      "57/57 [==============================] - 0s 2ms/step - loss: 228.2907\n",
      "Epoch 88/100\n",
      "57/57 [==============================] - 0s 2ms/step - loss: 211.0816\n",
      "Epoch 89/100\n",
      "57/57 [==============================] - 0s 2ms/step - loss: 195.0705\n",
      "Epoch 90/100\n",
      "57/57 [==============================] - 0s 2ms/step - loss: 180.1878\n",
      "Epoch 91/100\n",
      "57/57 [==============================] - 0s 2ms/step - loss: 166.3669\n",
      "Epoch 92/100\n",
      "57/57 [==============================] - 0s 2ms/step - loss: 153.5443\n",
      "Epoch 93/100\n",
      "57/57 [==============================] - 0s 2ms/step - loss: 141.6585\n",
      "Epoch 94/100\n",
      "57/57 [==============================] - 0s 2ms/step - loss: 130.6519\n",
      "Epoch 95/100\n",
      "57/57 [==============================] - 0s 2ms/step - loss: 120.4692\n",
      "Epoch 96/100\n",
      "57/57 [==============================] - 0s 2ms/step - loss: 111.0587\n",
      "Epoch 97/100\n",
      "57/57 [==============================] - 0s 2ms/step - loss: 102.3710\n",
      "Epoch 98/100\n",
      "57/57 [==============================] - 0s 2ms/step - loss: 94.3598\n",
      "Epoch 99/100\n",
      "57/57 [==============================] - 0s 2ms/step - loss: 86.9820\n",
      "Epoch 100/100\n",
      "57/57 [==============================] - 0s 2ms/step - loss: 80.1963\n"
     ]
    }
   ],
   "source": [
    "history=lstm.fit(X_train, y_train, epochs=100, batch_size=4, verbose=1, shuffle=False)"
   ]
  },
  {
   "cell_type": "code",
   "execution_count": 45,
   "id": "072cb896",
   "metadata": {},
   "outputs": [
    {
     "name": "stdout",
     "output_type": "stream",
     "text": [
      "1/1 [==============================] - 0s 289ms/step\n"
     ]
    }
   ],
   "source": [
    "y_pred= lstm.predict(X_test)"
   ]
  },
  {
   "cell_type": "code",
   "execution_count": 46,
   "id": "d1f7d28c",
   "metadata": {},
   "outputs": [
    {
     "data": {
      "image/png": "[encoded data removed]",
      "text/plain": [
       "<Figure size 432x288 with 1 Axes>"
      ]
     },
     "metadata": {
      "needs_background": "light"
     },
     "output_type": "display_data"
    }
   ],
   "source": [
    "plt.plot(y_test, label='True Value')\n",
    "plt.plot(y_pred, label='LSTM Value')\n",
    "plt.title(\"Prediction by LSTM\")\n",
    "plt.xlabel('Time Scale')\n",
    "plt.ylabel('Scaled Rupees')\n",
    "plt.legend()\n",
    "plt.show()\n"
   ]
  },
  {
   "cell_type": "code",
   "execution_count": 28,
   "id": "245563be",
   "metadata": {},
   "outputs": [],
   "source": [
    "mse = np.mean(np.square(y_test - y_pred))\n",
    "rmse = np.sqrt(mse)\n",
    "r2 = r2_score(y_test, y_pred, multioutput='raw_values')"
   ]
  },
  {
   "cell_type": "code",
   "execution_count": 29,
   "id": "1cdd3018",
   "metadata": {},
   "outputs": [
    {
     "name": "stdout",
     "output_type": "stream",
     "text": [
      "Mean Squared Error (MSE):  442.3882222299816\n",
      "Root Mean Squared Error (RMSE):  21.03302693931574\n",
      "R-squared (R2):  [0.96427729]\n"
     ]
    }
   ],
   "source": [
    "print(\"Mean Squared Error (MSE): \", mse)\n",
    "print(\"Root Mean Squared Error (RMSE): \", rmse)\n",
    "print(\"R-squared (R2): \", r2)\n"
   ]
  },
  {
   "cell_type": "code",
   "execution_count": 30,
   "id": "4cbb0c13",
   "metadata": {},
   "outputs": [
    {
     "data": {
      "image/png": "[encoded data removed]",
      "text/plain": [
       "<Figure size 432x288 with 1 Axes>"
      ]
     },
     "metadata": {
      "needs_background": "light"
     },
     "output_type": "display_data"
    }
   ],
   "source": [
    "plt.plot(y_test, label='True Value')\n",
    "plt.plot(y_pred, label='Linear Regression Value')\n",
    "plt.title(\"Prediction by Linear Regression\")\n",
    "plt.xlabel('Time Scale')\n",
    "plt.ylabel('Scaled Rupees')\n",
    "plt.legend()\n",
    "plt.show()\n"
   ]
  },
  {
   "cell_type": "code",
   "execution_count": null,
   "id": "26166520",
   "metadata": {},
   "outputs": [],
   "source": []
  }
 ],
 "metadata": {
  "kernelspec": {
   "display_name": "Python 3 (ipykernel)",
   "language": "python",
   "name": "python3"
  },
  "language_info": {
   "codemirror_mode": {
    "name": "ipython",
    "version": 3
   },
   "file_extension": ".py",
   "mimetype": "text/x-python",
   "name": "python",
   "nbconvert_exporter": "python",
   "pygments_lexer": "ipython3",
   "version": "3.9.12"
  }
 },
 "nbformat": 4,
 "nbformat_minor": 5
}
